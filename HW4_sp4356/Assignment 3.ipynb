{
 "cells": [
  {
   "cell_type": "code",
   "execution_count": 2,
   "metadata": {
    "collapsed": true
   },
   "outputs": [],
   "source": [
    "import numpy as np\n",
    "import pylab as plt"
   ]
  },
  {
   "cell_type": "code",
   "execution_count": 6,
   "metadata": {
    "collapsed": false
   },
   "outputs": [],
   "source": [
    "alpha=0.05\n",
    "\n",
    "P_0 = 3.5*0.01 \n",
    "P_1 = 70.1*0.01\n",
    "\n",
    "n_0 = 409\n",
    "n_1 = 564\n",
    "\n",
    "Nt_0 = P_0 * n_0\n",
    "Nt_1 = P_1 * n_1"
   ]
  },
  {
   "cell_type": "code",
   "execution_count": 9,
   "metadata": {
    "collapsed": false
   },
   "outputs": [
    {
     "name": "stdout",
     "output_type": "stream",
     "text": [
      "0.035 409 564 0.0320658086057\n"
     ]
    }
   ],
   "source": [
    "sp_stdev = lambda p, n: np.sqrt(p * (1 - p) / n[0] +  p * (1 - p) / n[1])\n",
    "\n",
    "sp_stdev_2y = sp_stdev(( Nt_0 + Nt_1) / (n_0 + n_1), [n_0, n_1])\n",
    "print P_0, n_0, n_1, sp_stdev_2y"
   ]
  },
  {
   "cell_type": "code",
   "execution_count": 11,
   "metadata": {
    "collapsed": false
   },
   "outputs": [
    {
     "name": "stdout",
     "output_type": "stream",
     "text": [
      "20.7697865408\n"
     ]
    }
   ],
   "source": [
    "zscore = lambda p0, p1, s : (p0 - p1) / s\n",
    "z_2y = zscore(P_1, P_0, sp_stdev_2y)\n",
    "print z_2y"
   ]
  },
  {
   "cell_type": "markdown",
   "metadata": {},
   "source": [
    "![title](ztable.jpg)"
   ]
  },
  {
   "cell_type": "code",
   "execution_count": 33,
   "metadata": {
    "collapsed": false
   },
   "outputs": [
    {
     "name": "stdout",
     "output_type": "stream",
     "text": [
      "Since the p-value 0.0003 is less than the critical value 0.05, we have enough evidence to reject the null hypothesis\n"
     ]
    }
   ],
   "source": [
    "p_2y = 1 - 0.9997\n",
    "\n",
    "print 'Since the p-value', p_2y, 'is less than the critical value 0.05, we have enough evidence to reject the null hypothesis'"
   ]
  },
  {
   "cell_type": "markdown",
   "metadata": {},
   "source": [
    "## What if we used the values for where the former inmate was or was not \"Convicted of a felony\" (row 10) in the Recidivism (Years 1-3)?\n",
    "\n",
    "![title](felony.png)\n",
    "\n",
    "## Null hypothesis: The % of former prisoners convicted again after release is the same or higher for candidates who participated in the program compared to the control group \n",
    "\n",
    "## Significance level: a=0.05\n",
    "\n",
    "Assume that $P = y / n$ is the proportion of prisoners convicted again, with $y$ being the number of prisoners convicted and $n$ the sample size.\n",
    "\n",
    "## $H_0: P_0 - P_1 \\leq 0$\n",
    "## $H_a: P_0 - P_1 > 0$\n",
    "\n",
    "## $P_0 = 0.117, P_1= 0.100$"
   ]
  },
  {
   "cell_type": "code",
   "execution_count": 48,
   "metadata": {
    "collapsed": false
   },
   "outputs": [],
   "source": [
    "alpha = 0.05\n",
    "\n",
    "P_0 = 0.117 \n",
    "P_1 = 0.1\n",
    "\n",
    "n_0 = 409\n",
    "n_1 = 568\n",
    "\n",
    "count_0 = P_0 * n_0\n",
    "count_1 = P_1 * n_1\n",
    "\n",
    "p_hat = (count_0 + count_1)/(n_0 + n_1)"
   ]
  },
  {
   "cell_type": "code",
   "execution_count": 49,
   "metadata": {
    "collapsed": false
   },
   "outputs": [
    {
     "name": "stdout",
     "output_type": "stream",
     "text": [
      "0.117 409 568 0.0200556791612\n"
     ]
    }
   ],
   "source": [
    "sp_stdev = lambda p, n1, n2: np.sqrt(p * (1 - p) / n1 +  p * (1 - p) / n2)\n",
    "\n",
    "sp_stdev_3y = sp_stdev(p_hat, n_0, n_1)\n",
    "print P_0, n_0, n_1, sp_stdev_3y"
   ]
  },
  {
   "cell_type": "code",
   "execution_count": 50,
   "metadata": {
    "collapsed": false
   },
   "outputs": [
    {
     "name": "stdout",
     "output_type": "stream",
     "text": [
      "-0.84764020522\n"
     ]
    }
   ],
   "source": [
    "zscore = lambda p_0, p_1, se : (p_0 - p_1) / se\n",
    "z_3y = zscore(P_1, P_0, sp_stdev_2y)\n",
    "print z_3y"
   ]
  },
  {
   "cell_type": "code",
   "execution_count": 51,
   "metadata": {
    "collapsed": false
   },
   "outputs": [
    {
     "data": {
      "text/plain": [
       "0.1817"
      ]
     },
     "execution_count": 51,
     "metadata": {},
     "output_type": "execute_result"
    }
   ],
   "source": [
    "pvalue = 0.1711+((-0.847+0.9)*(0.1911-0.1711)/(-0.8+0.9)) # Interpolation from z-table 0.8 and 0.9 values\n",
    "pvalue"
   ]
  },
  {
   "cell_type": "code",
   "execution_count": 53,
   "metadata": {
    "collapsed": false
   },
   "outputs": [
    {
     "name": "stdout",
     "output_type": "stream",
     "text": [
      "Since the p-value 0.8183 is higher than the critical value 0.05, we fail to reject the null hypothesis\n"
     ]
    }
   ],
   "source": [
    "p_3y = 1 - 0.1817\n",
    "\n",
    "print 'Since the p-value', p_3y, 'is higher than the critical value 0.05, we fail to reject the null hypothesis'"
   ]
  },
  {
   "cell_type": "markdown",
   "metadata": {},
   "source": [
    "# Now lets do it with the $\\chi^2$ test"
   ]
  },
  {
   "cell_type": "code",
   "execution_count": 54,
   "metadata": {
    "collapsed": false
   },
   "outputs": [
    {
     "name": "stdout",
     "output_type": "stream",
     "text": [
      "433.128818315\n"
     ]
    }
   ],
   "source": [
    "chisqstat= lambda N, values, expect_num : ((values[0][0] * values[1][1]\n",
    "                                            -values[0][1] * values[1][0])**2) * N / expect_num\n",
    "Ntot = 973  # a + b + c + d = tot\n",
    "expected_num = 564 * 409 * 409.679 * 563.321\n",
    "sample_values = [[0.701 * 564, 0.299 * 564], [0.0305 * 409, 0.965 * 409]]\n",
    " \n",
    "\n",
    "print (chisqstat(Ntot,  sample_values, expected_num))"
   ]
  },
  {
   "cell_type": "markdown",
   "metadata": {},
   "source": [
    "When comparing two samples the degrees of freedom are derived from the following formula:\n",
    "\n",
    "(Number of rows - 1) x (Number of columns -1) in the contigency table (https://en.wikipedia.org/wiki/Chi-squared_test)\n",
    "\n",
    "Thus, the we have __df=1__ for this problem"
   ]
  },
  {
   "cell_type": "markdown",
   "metadata": {},
   "source": [
    "![title](chi-square-table.gif)"
   ]
  },
  {
   "cell_type": "markdown",
   "metadata": {},
   "source": [
    "For __a = 0.05__, the value of the chi square table is __3.84__, which is way smaller than 433.1. Thus, we reject $H_{0}$ that the percentage of former prisoners employed after release is the same or lower for candidates who participated in the program as for the control group with 95% confidence.\n",
    "\n",
    "The result is consistent with the previous findings of the __z test__."
   ]
  },
  {
   "cell_type": "markdown",
   "metadata": {},
   "source": [
    "The contigency table for conviction for felonies is as follows:\n",
    "\n",
    "\n",
    "|convicted of a fellony     |     employed   | not employes   | total  |                  \n",
    "|---------------------------|----------------|----------------|--------|\n",
    "| test sample               | 0.1x568            |   0.9x568             |    568    |          \n",
    "| control sample            | 0.117x409               |  0.883x409              |    409    |                    \n",
    "| __total__                 | 104.653               |  872.347              |    977    |"
   ]
  },
  {
   "cell_type": "code",
   "execution_count": 75,
   "metadata": {
    "collapsed": false
   },
   "outputs": [
    {
     "name": "stdout",
     "output_type": "stream",
     "text": [
      "The chisquared statistic is: 0.718493917505\n"
     ]
    }
   ],
   "source": [
    "table = [[0.1 * 568, 0.9 * 568], [0.117 * 409, 0.883 * 409]]\n",
    "prod_tot = 104.653*872.347*568*409\n",
    "N = 977\n",
    "\n",
    "chi2stat = ((table[0][0]*table[1][1]-table[0][1]*table[1][0])**2) * N / prod_tot\n",
    "print 'The chisquared statistic is:' ,chi2stat"
   ]
  },
  {
   "cell_type": "markdown",
   "metadata": {},
   "source": [
    "For __a=.05__ and for __df=1__ (similarly to the previous example), the value is __3.84__, which is higher than the $\\chi^{2}=0.781$ we obtained. So, we fail to reject the null hypothesis that the percentage of former prisoners convicted again after release is the same or higher for candidates who participated in the program compared to the control group.\n",
    "\n",
    "Again, the finding is consistent with the __z test__."
   ]
  }
 ],
 "metadata": {
  "kernelspec": {
   "display_name": "Python 2",
   "language": "python",
   "name": "python2"
  },
  "language_info": {
   "codemirror_mode": {
    "name": "ipython",
    "version": 2
   },
   "file_extension": ".py",
   "mimetype": "text/x-python",
   "name": "python",
   "nbconvert_exporter": "python",
   "pygments_lexer": "ipython2",
   "version": "2.7.11"
  }
 },
 "nbformat": 4,
 "nbformat_minor": 0
}
