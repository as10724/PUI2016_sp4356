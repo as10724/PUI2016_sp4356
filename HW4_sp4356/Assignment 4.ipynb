{
 "cells": [
  {
   "cell_type": "markdown",
   "metadata": {},
   "source": [
    "    test if the distribution of ages is the same for \n",
    "    \n",
    "    1) male and female riders\n",
    "    \n",
    "    2) day and night riders\n",
    "    \n",
    "    use 3 tests: KS, Pearson's, Spearman's.\n",
    "    \n",
    "    For the KS do the test with the entire dataset and with a subset 200 times smaller\n",
    "    \n",
    "    Choose a significant threshold for the whole exercise. \n",
    "    \n",
    "    For each test phrase the Null Hypothesis in words.\n",
    "    \n",
    "    Describe the return of the scipy function you use in each case.\n",
    "    \n",
    "    State the result in terms of rejection of the Null."
   ]
  },
  {
   "cell_type": "code",
   "execution_count": 3,
   "metadata": {
    "collapsed": false
   },
   "outputs": [
    {
     "name": "stderr",
     "output_type": "stream",
     "text": [
      "/opt/rh/anaconda/root/lib/python2.7/site-packages/pandas/computation/__init__.py:19: UserWarning: The installed version of numexpr 2.4.4 is not supported in pandas and will be not be used\n",
      "\n",
      "  UserWarning)\n"
     ]
    }
   ],
   "source": [
    "import pandas as pd\n",
    "import numpy as np\n",
    "import matplotlib.pylab as plt\n",
    "import requests, zipfile, StringIO\n",
    "\n",
    "%matplotlib inline"
   ]
  },
  {
   "cell_type": "code",
   "execution_count": 60,
   "metadata": {
    "collapsed": false
   },
   "outputs": [
    {
     "data": {
      "text/plain": [
       "(3337361, 15)"
      ]
     },
     "execution_count": 60,
     "metadata": {},
     "output_type": "execute_result"
    }
   ],
   "source": [
    "datestring = ['201505', '201507', '201509']\n",
    "df = pd.DataFrame()\n",
    "for month in datestring:\n",
    "    r = requests.get('https://s3.amazonaws.com/tripdata/'+ month + '-citibike-tripdata.zip')\n",
    "    z = zipfile.ZipFile(StringIO.StringIO(r.content))\n",
    "    df_temp = pd.read_csv(z.open(month +'-citibike-tripdata.csv'))\n",
    "    df = df.append(df_temp, ignore_index=True)\n",
    "\n",
    "df.shape"
   ]
  },
  {
   "cell_type": "code",
   "execution_count": 63,
   "metadata": {
    "collapsed": false
   },
   "outputs": [],
   "source": [
    "df['date'] = pd.to_datetime(df['starttime'])"
   ]
  },
  {
   "cell_type": "code",
   "execution_count": 64,
   "metadata": {
    "collapsed": false
   },
   "outputs": [],
   "source": [
    "df['hour'] = df['date'].dt.hour"
   ]
  },
  {
   "cell_type": "code",
   "execution_count": 72,
   "metadata": {
    "collapsed": false
   },
   "outputs": [],
   "source": [
    "df['birth year'].dropna(inplace= True)\n",
    "df['ageM'].dropna(inplace= True)\n",
    "df['ageF'].dropna(inplace= True)"
   ]
  },
  {
   "cell_type": "code",
   "execution_count": 245,
   "metadata": {
    "collapsed": false
   },
   "outputs": [],
   "source": [
    "df['ageM'] = 2016 - df['birth year'][(df['usertype'] == 'Subscriber') & (df['gender'] == 1)]\n",
    "df['ageF'] = 2016 - df['birth year'][(df['usertype'] == 'Subscriber') & (df['gender'] == 2)]"
   ]
  },
  {
   "cell_type": "code",
   "execution_count": 246,
   "metadata": {
    "collapsed": false
   },
   "outputs": [
    {
     "data": {
      "text/html": [
       "<div>\n",
       "<table border=\"1\" class=\"dataframe\">\n",
       "  <thead>\n",
       "    <tr style=\"text-align: right;\">\n",
       "      <th></th>\n",
       "      <th>tripduration</th>\n",
       "      <th>start station id</th>\n",
       "      <th>start station latitude</th>\n",
       "      <th>start station longitude</th>\n",
       "      <th>end station id</th>\n",
       "      <th>end station latitude</th>\n",
       "      <th>end station longitude</th>\n",
       "      <th>bikeid</th>\n",
       "      <th>birth year</th>\n",
       "      <th>gender</th>\n",
       "      <th>hour</th>\n",
       "      <th>ageM</th>\n",
       "      <th>ageF</th>\n",
       "      <th>ageD</th>\n",
       "      <th>ageN</th>\n",
       "    </tr>\n",
       "  </thead>\n",
       "  <tbody>\n",
       "    <tr>\n",
       "      <th>count</th>\n",
       "      <td>3.337361e+06</td>\n",
       "      <td>3.337361e+06</td>\n",
       "      <td>3.337361e+06</td>\n",
       "      <td>3.337361e+06</td>\n",
       "      <td>3.337361e+06</td>\n",
       "      <td>3.337361e+06</td>\n",
       "      <td>3.337361e+06</td>\n",
       "      <td>3.337361e+06</td>\n",
       "      <td>2.779331e+06</td>\n",
       "      <td>3.337361e+06</td>\n",
       "      <td>3.337361e+06</td>\n",
       "      <td>2.103803e+06</td>\n",
       "      <td>672524.000000</td>\n",
       "      <td>1.899156e+06</td>\n",
       "      <td>0.0</td>\n",
       "    </tr>\n",
       "    <tr>\n",
       "      <th>mean</th>\n",
       "      <td>1.009201e+03</td>\n",
       "      <td>5.618801e+02</td>\n",
       "      <td>4.073509e+01</td>\n",
       "      <td>-7.399017e+01</td>\n",
       "      <td>5.590237e+02</td>\n",
       "      <td>4.073481e+01</td>\n",
       "      <td>-7.399027e+01</td>\n",
       "      <td>1.939026e+04</td>\n",
       "      <td>1.976791e+03</td>\n",
       "      <td>1.033412e+00</td>\n",
       "      <td>1.403438e+01</td>\n",
       "      <td>3.964630e+01</td>\n",
       "      <td>37.819431</td>\n",
       "      <td>3.906086e+01</td>\n",
       "      <td>NaN</td>\n",
       "    </tr>\n",
       "    <tr>\n",
       "      <th>std</th>\n",
       "      <td>6.718288e+03</td>\n",
       "      <td>6.381679e+02</td>\n",
       "      <td>2.017046e-02</td>\n",
       "      <td>1.372074e-02</td>\n",
       "      <td>6.350335e+02</td>\n",
       "      <td>2.015889e-02</td>\n",
       "      <td>1.374041e-02</td>\n",
       "      <td>2.813963e+03</td>\n",
       "      <td>1.148000e+01</td>\n",
       "      <td>6.070416e-01</td>\n",
       "      <td>4.882139e+00</td>\n",
       "      <td>1.150935e+01</td>\n",
       "      <td>11.160361</td>\n",
       "      <td>1.163144e+01</td>\n",
       "      <td>NaN</td>\n",
       "    </tr>\n",
       "    <tr>\n",
       "      <th>min</th>\n",
       "      <td>6.000000e+01</td>\n",
       "      <td>7.200000e+01</td>\n",
       "      <td>4.064677e+01</td>\n",
       "      <td>-7.401713e+01</td>\n",
       "      <td>7.200000e+01</td>\n",
       "      <td>4.064677e+01</td>\n",
       "      <td>-7.401713e+01</td>\n",
       "      <td>1.452900e+04</td>\n",
       "      <td>1.885000e+03</td>\n",
       "      <td>0.000000e+00</td>\n",
       "      <td>0.000000e+00</td>\n",
       "      <td>1.700000e+01</td>\n",
       "      <td>17.000000</td>\n",
       "      <td>1.600000e+01</td>\n",
       "      <td>NaN</td>\n",
       "    </tr>\n",
       "    <tr>\n",
       "      <th>25%</th>\n",
       "      <td>4.110000e+02</td>\n",
       "      <td>3.100000e+02</td>\n",
       "      <td>4.072083e+01</td>\n",
       "      <td>-7.400004e+01</td>\n",
       "      <td>3.090000e+02</td>\n",
       "      <td>4.072066e+01</td>\n",
       "      <td>-7.400026e+01</td>\n",
       "      <td>1.696300e+04</td>\n",
       "      <td>NaN</td>\n",
       "      <td>1.000000e+00</td>\n",
       "      <td>1.000000e+01</td>\n",
       "      <td>NaN</td>\n",
       "      <td>NaN</td>\n",
       "      <td>NaN</td>\n",
       "      <td>NaN</td>\n",
       "    </tr>\n",
       "    <tr>\n",
       "      <th>50%</th>\n",
       "      <td>6.700000e+02</td>\n",
       "      <td>4.260000e+02</td>\n",
       "      <td>4.073649e+01</td>\n",
       "      <td>-7.399074e+01</td>\n",
       "      <td>4.200000e+02</td>\n",
       "      <td>4.073620e+01</td>\n",
       "      <td>-7.399076e+01</td>\n",
       "      <td>1.933900e+04</td>\n",
       "      <td>NaN</td>\n",
       "      <td>1.000000e+00</td>\n",
       "      <td>1.500000e+01</td>\n",
       "      <td>NaN</td>\n",
       "      <td>NaN</td>\n",
       "      <td>NaN</td>\n",
       "      <td>NaN</td>\n",
       "    </tr>\n",
       "    <tr>\n",
       "      <th>75%</th>\n",
       "      <td>1.122000e+03</td>\n",
       "      <td>4.970000e+02</td>\n",
       "      <td>4.075066e+01</td>\n",
       "      <td>-7.398169e+01</td>\n",
       "      <td>4.970000e+02</td>\n",
       "      <td>4.075020e+01</td>\n",
       "      <td>-7.398169e+01</td>\n",
       "      <td>2.202100e+04</td>\n",
       "      <td>NaN</td>\n",
       "      <td>1.000000e+00</td>\n",
       "      <td>1.800000e+01</td>\n",
       "      <td>NaN</td>\n",
       "      <td>NaN</td>\n",
       "      <td>NaN</td>\n",
       "      <td>NaN</td>\n",
       "    </tr>\n",
       "    <tr>\n",
       "      <th>max</th>\n",
       "      <td>5.174309e+06</td>\n",
       "      <td>3.232000e+03</td>\n",
       "      <td>4.078721e+01</td>\n",
       "      <td>-7.392989e+01</td>\n",
       "      <td>3.232000e+03</td>\n",
       "      <td>4.078721e+01</td>\n",
       "      <td>-7.392989e+01</td>\n",
       "      <td>2.473600e+04</td>\n",
       "      <td>1.999000e+03</td>\n",
       "      <td>2.000000e+00</td>\n",
       "      <td>2.300000e+01</td>\n",
       "      <td>1.310000e+02</td>\n",
       "      <td>116.000000</td>\n",
       "      <td>1.300000e+02</td>\n",
       "      <td>NaN</td>\n",
       "    </tr>\n",
       "  </tbody>\n",
       "</table>\n",
       "</div>"
      ],
      "text/plain": [
       "       tripduration  start station id  start station latitude  \\\n",
       "count  3.337361e+06      3.337361e+06            3.337361e+06   \n",
       "mean   1.009201e+03      5.618801e+02            4.073509e+01   \n",
       "std    6.718288e+03      6.381679e+02            2.017046e-02   \n",
       "min    6.000000e+01      7.200000e+01            4.064677e+01   \n",
       "25%    4.110000e+02      3.100000e+02            4.072083e+01   \n",
       "50%    6.700000e+02      4.260000e+02            4.073649e+01   \n",
       "75%    1.122000e+03      4.970000e+02            4.075066e+01   \n",
       "max    5.174309e+06      3.232000e+03            4.078721e+01   \n",
       "\n",
       "       start station longitude  end station id  end station latitude  \\\n",
       "count             3.337361e+06    3.337361e+06          3.337361e+06   \n",
       "mean             -7.399017e+01    5.590237e+02          4.073481e+01   \n",
       "std               1.372074e-02    6.350335e+02          2.015889e-02   \n",
       "min              -7.401713e+01    7.200000e+01          4.064677e+01   \n",
       "25%              -7.400004e+01    3.090000e+02          4.072066e+01   \n",
       "50%              -7.399074e+01    4.200000e+02          4.073620e+01   \n",
       "75%              -7.398169e+01    4.970000e+02          4.075020e+01   \n",
       "max              -7.392989e+01    3.232000e+03          4.078721e+01   \n",
       "\n",
       "       end station longitude        bikeid    birth year        gender  \\\n",
       "count           3.337361e+06  3.337361e+06  2.779331e+06  3.337361e+06   \n",
       "mean           -7.399027e+01  1.939026e+04  1.976791e+03  1.033412e+00   \n",
       "std             1.374041e-02  2.813963e+03  1.148000e+01  6.070416e-01   \n",
       "min            -7.401713e+01  1.452900e+04  1.885000e+03  0.000000e+00   \n",
       "25%            -7.400026e+01  1.696300e+04           NaN  1.000000e+00   \n",
       "50%            -7.399076e+01  1.933900e+04           NaN  1.000000e+00   \n",
       "75%            -7.398169e+01  2.202100e+04           NaN  1.000000e+00   \n",
       "max            -7.392989e+01  2.473600e+04  1.999000e+03  2.000000e+00   \n",
       "\n",
       "               hour          ageM           ageF          ageD  ageN  \n",
       "count  3.337361e+06  2.103803e+06  672524.000000  1.899156e+06   0.0  \n",
       "mean   1.403438e+01  3.964630e+01      37.819431  3.906086e+01   NaN  \n",
       "std    4.882139e+00  1.150935e+01      11.160361  1.163144e+01   NaN  \n",
       "min    0.000000e+00  1.700000e+01      17.000000  1.600000e+01   NaN  \n",
       "25%    1.000000e+01           NaN            NaN           NaN   NaN  \n",
       "50%    1.500000e+01           NaN            NaN           NaN   NaN  \n",
       "75%    1.800000e+01           NaN            NaN           NaN   NaN  \n",
       "max    2.300000e+01  1.310000e+02     116.000000  1.300000e+02   NaN  "
      ]
     },
     "execution_count": 246,
     "metadata": {},
     "output_type": "execute_result"
    }
   ],
   "source": [
    "df['birth year'].dropna(inplace= True)\n",
    "df['ageM'].dropna(inplace= True)\n",
    "df['ageF'].dropna(inplace= True)\n",
    "df.describe()"
   ]
  },
  {
   "cell_type": "code",
   "execution_count": 247,
   "metadata": {
    "collapsed": false
   },
   "outputs": [],
   "source": [
    "df_age = df[['ageM', 'ageF']]"
   ]
  },
  {
   "cell_type": "code",
   "execution_count": 248,
   "metadata": {
    "collapsed": false
   },
   "outputs": [
    {
     "data": {
      "text/plain": [
       "<matplotlib.axes._subplots.AxesSubplot at 0x7ff6258d2110>"
      ]
     },
     "execution_count": 248,
     "metadata": {},
     "output_type": "execute_result"
    },
    {
     "data": {
      "image/png": "[encoded data removed]",
      "text/plain": [
       "<matplotlib.figure.Figure at 0x7ff5bb40f510>"
      ]
     },
     "metadata": {},
     "output_type": "display_data"
    },
    {
     "data": {
      "image/png": "[encoded data removed]",
      "text/plain": [
       "<matplotlib.figure.Figure at 0x7ff652fd72d0>"
      ]
     },
     "metadata": {},
     "output_type": "display_data"
    }
   ],
   "source": [
    "bins = np.arange(10, 99, 5)\n",
    "df_age.ageM.groupby(pd.cut(df_age.ageM, bins)).agg([np.count_nonzero]).plot(kind='bar', legend=False, title = 'male riders')\n",
    "df_age.ageF.groupby(pd.cut(df_age.ageF, bins)).agg([np.count_nonzero]).plot(kind='bar', legend=False, title = 'female riders')"
   ]
  },
  {
   "cell_type": "markdown",
   "metadata": {},
   "source": [
    "## Figure 1: histogrammed distribution of riders' ages by gender"
   ]
  },
  {
   "cell_type": "code",
   "execution_count": 249,
   "metadata": {
    "collapsed": false
   },
   "outputs": [
    {
     "name": "stdout",
     "output_type": "stream",
     "text": [
      "          count_nonzero\n",
      "ageM                   \n",
      "(10, 15]   0.000000e+00\n",
      "(15, 20]   2.595500e-04\n",
      "(20, 25]   2.206316e-02\n",
      "(25, 30]   6.660443e-02\n",
      "(30, 35]   8.591725e-02\n",
      "(35, 40]   7.301065e-02\n",
      "(40, 45]   4.702740e-02\n",
      "(45, 50]   2.501496e-02\n",
      "(50, 55]   1.523967e-02\n",
      "(55, 60]   1.633213e-02\n",
      "(60, 65]   7.647076e-03\n",
      "(65, 70]   2.741064e-03\n",
      "(70, 75]   3.750086e-04\n",
      "(75, 80]   1.507091e-04\n",
      "(80, 85]   9.269225e-07\n",
      "(85, 90]   2.377510e-05\n",
      "(90, 95]   0.000000e+00\n"
     ]
    },
    {
     "data": {
      "text/plain": [
       "<matplotlib.legend.Legend at 0x7ff588effcd0>"
      ]
     },
     "execution_count": 249,
     "metadata": {},
     "output_type": "execute_result"
    },
    {
     "data": {
      "image/png": "[encoded data removed]",
      "text/plain": [
       "<matplotlib.figure.Figure at 0x7ff5fc524a50>"
      ]
     },
     "metadata": {},
     "output_type": "display_data"
    }
   ],
   "source": [
    "csM=df_age.ageM.groupby(pd.cut(df_age.ageM, bins)).agg([np.count_nonzero]).cumsum()\n",
    "\n",
    "csF=df_age.ageF.groupby(pd.cut(df_age.ageF, bins)).agg([np.count_nonzero]).cumsum()\n",
    "\n",
    "print np.abs(csM / csM.max()-csF / csF.max())\n",
    "\n",
    "plt.figure(figsize = (7,7))\n",
    "plt.plot(bins[:-1] + 5, csM / csM.max(), label = \"Male\")\n",
    "plt.plot(bins[:-1] + 5, csF / csF.max(), label = \"Female\")\n",
    "plt.plot(bins[:-1] + 5, np.sqrt(abs(csF / csF.max() - csM / csM.max()))**2, 'k--',\n",
    "        label = \"Difference\")\n",
    "plt.xlabel(\"Age\")\n",
    "plt.ylabel(\"Normalized Cumulative Number\")\n",
    "plt.legend()"
   ]
  },
  {
   "cell_type": "markdown",
   "metadata": {},
   "source": [
    "## Figure 2: the cumulative distribution of CitiBike riders' ages by gender"
   ]
  },
  {
   "cell_type": "markdown",
   "metadata": {},
   "source": [
    "# Starting statistical tests"
   ]
  },
  {
   "cell_type": "code",
   "execution_count": 250,
   "metadata": {
    "collapsed": false
   },
   "outputs": [],
   "source": [
    "import scipy.stats"
   ]
  },
  {
   "cell_type": "markdown",
   "metadata": {},
   "source": [
    "##  KS test to compare 2 samples\n",
    "\n",
    "http://docs.scipy.org/doc/scipy-0.15.1/reference/generated/scipy.stats.ks_2samp.html"
   ]
  },
  {
   "cell_type": "code",
   "execution_count": 251,
   "metadata": {
    "collapsed": false
   },
   "outputs": [
    {
     "name": "stdout",
     "output_type": "stream",
     "text": [
      "Ks_2sampResult(statistic=0.42886550181415795, pvalue=0.0)\n"
     ]
    }
   ],
   "source": [
    "ks = scipy.stats.ks_2samp(df_age.ageM, df_age.ageF)\n",
    "print ks"
   ]
  },
  {
   "cell_type": "markdown",
   "metadata": {},
   "source": [
    "The two sample Kolmogorov-Smirnov test, tests whether two samples come from populations with the __same__ distribution.\n",
    "\n",
    "It tests the null hypothesis that the two samples are drawn from the same continuous distribution.\n",
    "\n",
    "When the KS test value is __low__, or the p-value is __high__ (above 0.05 for a=0.05), then we __fail__ to reject the null hypothesis.\n",
    "\n",
    "Since we obtained a __p-value = 0__, we __reject $H_{0}$__ that samples are drawn from the same continuous distribution\n"
   ]
  },
  {
   "cell_type": "code",
   "execution_count": 252,
   "metadata": {
    "collapsed": false
   },
   "outputs": [
    {
     "data": {
      "text/plain": [
       "(16687, 2)"
      ]
     },
     "execution_count": 252,
     "metadata": {},
     "output_type": "execute_result"
    }
   ],
   "source": [
    "df_sample=pd.DataFrame()\n",
    "for i in range(1,len(df_age),200):\n",
    "    foo = df_age.iloc[i,:]\n",
    "    df_sample = df_sample.append(foo, ignore_index=True)\n",
    "    \n",
    "df_sample.shape"
   ]
  },
  {
   "cell_type": "markdown",
   "metadata": {},
   "source": [
    "###  Performing KS test on a subsample of the data (1 ride every 200)"
   ]
  },
  {
   "cell_type": "code",
   "execution_count": 254,
   "metadata": {
    "collapsed": false
   },
   "outputs": [
    {
     "name": "stdout",
     "output_type": "stream",
     "text": [
      "Ks_2sampResult(statistic=0.42673937795889016, pvalue=0.0)\n"
     ]
    }
   ],
   "source": [
    "ks_sample = scipy.stats.ks_2samp(df_sample.ageM, df_sample.ageF)\n",
    "print ks_sample"
   ]
  },
  {
   "cell_type": "markdown",
   "metadata": {},
   "source": [
    "The KS statistic is 0.4267 and p-value = 0. The result is similar to the one we got for the larger sample, and again we reject the null hypothesis that the two samples are drawn from a population with the same distribution."
   ]
  },
  {
   "cell_type": "markdown",
   "metadata": {},
   "source": [
    "## Pearson's  test for correlation\n",
    "\n",
    "### notice that the Pearson's is a pairwise test: the samples need to be \n",
    "* ### a. sorted and \n",
    "* ### b. the same size!\n",
    "\n",
    "http://docs.scipy.org/doc/scipy/reference/generated/scipy.stats.pearsonr.html#scipy.stats.pearsonr"
   ]
  },
  {
   "cell_type": "code",
   "execution_count": 255,
   "metadata": {
    "collapsed": false
   },
   "outputs": [],
   "source": [
    "df_male_clean = df_age.ageM.dropna()\n",
    "df_female_clean = df_age.ageF.dropna()"
   ]
  },
  {
   "cell_type": "code",
   "execution_count": 256,
   "metadata": {
    "collapsed": false
   },
   "outputs": [],
   "source": [
    "df_female_clean = df_female_clean.reset_index(drop=True)\n",
    "df_male_clean = df_male_clean.reset_index(drop=True)"
   ]
  },
  {
   "cell_type": "code",
   "execution_count": 257,
   "metadata": {
    "collapsed": false
   },
   "outputs": [],
   "source": [
    "df_male_clean = df_male_clean.sort_values()\n",
    "df_female_clean = df_female_clean.sort_values()"
   ]
  },
  {
   "cell_type": "code",
   "execution_count": 258,
   "metadata": {
    "collapsed": false
   },
   "outputs": [
    {
     "name": "stdout",
     "output_type": "stream",
     "text": [
      "2103803\n",
      "672524\n"
     ]
    }
   ],
   "source": [
    "print len(df_male_clean)\n",
    "print len(df_female_clean)"
   ]
  },
  {
   "cell_type": "code",
   "execution_count": 259,
   "metadata": {
    "collapsed": true
   },
   "outputs": [],
   "source": [
    "df_male_clean = np.random.choice(df_male_clean, len(df_female_clean), replace = False)"
   ]
  },
  {
   "cell_type": "code",
   "execution_count": 260,
   "metadata": {
    "collapsed": false
   },
   "outputs": [
    {
     "name": "stdout",
     "output_type": "stream",
     "text": [
      "672524\n"
     ]
    }
   ],
   "source": [
    "print len(df_male_clean)"
   ]
  },
  {
   "cell_type": "code",
   "execution_count": 261,
   "metadata": {
    "collapsed": false
   },
   "outputs": [
    {
     "data": {
      "text/plain": [
       "(0.0021740007081751641, 0.074611743121641746)"
      ]
     },
     "execution_count": 261,
     "metadata": {},
     "output_type": "execute_result"
    }
   ],
   "source": [
    "scipy.stats.pearsonr(df_male_clean, df_female_clean)"
   ]
  },
  {
   "cell_type": "markdown",
   "metadata": {},
   "source": [
    "Pearson correlation test outputs the __correlation coefficient__ between two samples and the __p-value__ for testing __non-correlation__. The test assumes that the samples compared are normally distributed.\n",
    "\n",
    "The pearson test for correlation test the __$H_{0}:$ There is no relationship between the observed phenomena.__ Thus, p-values higher than 0.05 fail to reject the null hypothesis and __do not suggest any correlation__ among the samples. Furthermore, Pearson test values range from -1 to 1, with values close to 0 indicating non-significant correlation.\n",
    "\n",
    "In our case, the __p-value is 0.07>0.05__ and we __fail to reject__ the null hypothesis. Also, the Pearson statistic is very close to zero, indicating __no correlation__ between the two samples."
   ]
  },
  {
   "cell_type": "markdown",
   "metadata": {},
   "source": [
    "## Spearman's  test for correlation\n",
    "\n",
    "http://docs.scipy.org/doc/scipy/reference/generated/scipy.stats.spearmanr.html#scipy.stats.spearmanr"
   ]
  },
  {
   "cell_type": "code",
   "execution_count": 262,
   "metadata": {
    "collapsed": false
   },
   "outputs": [
    {
     "data": {
      "text/plain": [
       "SpearmanrResult(correlation=0.0017969232249130651, pvalue=0.1405862626581045)"
      ]
     },
     "execution_count": 262,
     "metadata": {},
     "output_type": "execute_result"
    }
   ],
   "source": [
    "scipy.stats.spearmanr(df_male_clean, df_female_clean)"
   ]
  },
  {
   "cell_type": "markdown",
   "metadata": {},
   "source": [
    "Similarly to Pearson correlation test, Spearman's test calculates a correlation coefficient and a p-value to test for non-correlation. The major difference with the abovementioned Pearon's correlation test, is that Spearman's test __does not__ assume normality in the two samples. The Spearman correlation coefficient ranges from -1 to 1, with 0 indicating no correlation between the samples and tests the sampe hypothesis as above. \n",
    "\n",
    "For this two samples, the Spearman correlation coefficient is __almost 0__ and the __p-value=0.14__. So, we __fail to reject__ the null hypothesis that there is __no correlation between the two samples__."
   ]
  },
  {
   "cell_type": "markdown",
   "metadata": {},
   "source": [
    "## EXTRA CREDIT:  CHOOSE ONE OF THE TESTS, AND TEST THE CORRELATION OF AGES  OF RIDERS DURING THE DAY VS DURING THE NIGHT!"
   ]
  },
  {
   "cell_type": "code",
   "execution_count": 304,
   "metadata": {
    "collapsed": false
   },
   "outputs": [],
   "source": [
    "df_tmp = df[['birth year', 'usertype', 'hour']]\n",
    "df_tmp.loc[:,'ageN'] = 2016 - df_tmp['birth year'][(df_tmp['usertype'] == 'Subscriber') & (df_tmp['hour'] < 6)  | (df_tmp['hour'] >= 18)]\n",
    "df_tmp.loc[:,'ageD'] = 2016 - df_tmp['birth year'][(df_tmp['usertype'] == 'Subscriber') & (df_tmp['hour'] >= 6) & (df_tmp['hour'] < 18)]"
   ]
  },
  {
   "cell_type": "code",
   "execution_count": 309,
   "metadata": {
    "collapsed": false
   },
   "outputs": [],
   "source": [
    "df_day = df_tmp.ageN.dropna()\n",
    "df_night = df_tmp.ageD.dropna()"
   ]
  },
  {
   "cell_type": "code",
   "execution_count": 310,
   "metadata": {
    "collapsed": false
   },
   "outputs": [],
   "source": [
    "df_day = df_day.reset_index(drop=True)\n",
    "df_night = df_night.reset_index(drop=True)"
   ]
  },
  {
   "cell_type": "code",
   "execution_count": 311,
   "metadata": {
    "collapsed": false
   },
   "outputs": [],
   "source": [
    "df_day = df_day.sort_values()\n",
    "df_night = df_night.sort_values()"
   ]
  },
  {
   "cell_type": "code",
   "execution_count": 313,
   "metadata": {
    "collapsed": false
   },
   "outputs": [
    {
     "name": "stdout",
     "output_type": "stream",
     "text": [
      "880175\n",
      "1899156\n"
     ]
    }
   ],
   "source": [
    "print len(df_day)\n",
    "print len(df_night)"
   ]
  },
  {
   "cell_type": "code",
   "execution_count": 314,
   "metadata": {
    "collapsed": true
   },
   "outputs": [],
   "source": [
    "df_night = np.random.choice(df_night, len(df_day), replace = False)"
   ]
  },
  {
   "cell_type": "code",
   "execution_count": 315,
   "metadata": {
    "collapsed": false
   },
   "outputs": [
    {
     "name": "stdout",
     "output_type": "stream",
     "text": [
      "880175\n"
     ]
    }
   ],
   "source": [
    "print len(df_night)"
   ]
  },
  {
   "cell_type": "code",
   "execution_count": 317,
   "metadata": {
    "collapsed": false
   },
   "outputs": [
    {
     "data": {
      "text/plain": [
       "(-0.00031580740942334471, 0.76701423310783423)"
      ]
     },
     "execution_count": 317,
     "metadata": {},
     "output_type": "execute_result"
    }
   ],
   "source": [
    "scipy.stats.pearsonr(df_day, df_night)"
   ]
  },
  {
   "cell_type": "markdown",
   "metadata": {},
   "source": [
    "In this section we try to test whether there is correlation between the ages of riders during the day and during the night. We calculate the __Pearson's correlation coefficient__. The value of the test is __almost zero__ and the __p-value=0.767__, __failing to reject__ the null hypothesis of no correlation between the two samples. "
   ]
  }
 ],
 "metadata": {
  "kernelspec": {
   "display_name": "Python 2",
   "language": "python",
   "name": "python2"
  },
  "language_info": {
   "codemirror_mode": {
    "name": "ipython",
    "version": 2
   },
   "file_extension": ".py",
   "mimetype": "text/x-python",
   "name": "python",
   "nbconvert_exporter": "python",
   "pygments_lexer": "ipython2",
   "version": "2.7.11"
  }
 },
 "nbformat": 4,
 "nbformat_minor": 0
}
