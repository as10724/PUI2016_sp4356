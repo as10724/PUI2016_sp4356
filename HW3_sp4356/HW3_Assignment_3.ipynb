{
 "cells": [
  {
   "cell_type": "code",
   "execution_count": 34,
   "metadata": {
    "collapsed": false
   },
   "outputs": [],
   "source": [
    "import pandas as pd\n",
    "import numpy as np"
   ]
  },
  {
   "cell_type": "markdown",
   "metadata": {},
   "source": [
    "# Question:\n",
    "Does the new bus route improves commute time?\n",
    "\n",
    "# Hypothesis:\n",
    "\n",
    "* _Ho:_ The commute time with the new bus route is on average same or higher compared to the previous route scheme. ($m_{time} \\geqslant 36$)\n",
    "\n",
    "* _Ha:_ The commute time with the new bus route is on average shorter compared to the previous route scheme. ($m_{time} < 36$)\n",
    "\n",
    "_The hypothesis is going to be tested at 5% significance level (a=0.05)._ "
   ]
  },
  {
   "cell_type": "code",
   "execution_count": 30,
   "metadata": {
    "collapsed": false
   },
   "outputs": [],
   "source": [
    "df = pd.read_table('https://raw.githubusercontent.com/fedhere/PUI2016_fb55/master/Lab3_fb55/times.txt', header = None)\n",
    "\n",
    "m=36\n",
    "s=6"
   ]
  },
  {
   "cell_type": "code",
   "execution_count": 31,
   "metadata": {
    "collapsed": false
   },
   "outputs": [
    {
     "data": {
      "text/plain": [
       "0    34.466162\n",
       "dtype: float64"
      ]
     },
     "execution_count": 31,
     "metadata": {},
     "output_type": "execute_result"
    }
   ],
   "source": [
    "df.mean()"
   ]
  },
  {
   "cell_type": "code",
   "execution_count": 32,
   "metadata": {
    "collapsed": false
   },
   "outputs": [
    {
     "name": "stdout",
     "output_type": "stream",
     "text": [
      "The z-score is: -2.55639718617\n"
     ]
    }
   ],
   "source": [
    "z = (df.mean()-m)/(s/np.sqrt(len(df)))\n",
    "print 'The z-score is:', z[0]"
   ]
  },
  {
   "cell_type": "markdown",
   "metadata": {},
   "source": [
    "# Result:\n",
    "The z-score is lower than the -1.96 (2 $\\sigma$ from the old mean). Thus, we have evidence to reject $H_{0}$ and claim with 95% confidence that the new route is faster than the old one."
   ]
  }
 ],
 "metadata": {
  "kernelspec": {
   "display_name": "Python 2",
   "language": "python",
   "name": "python2"
  },
  "language_info": {
   "codemirror_mode": {
    "name": "ipython",
    "version": 2
   },
   "file_extension": ".py",
   "mimetype": "text/x-python",
   "name": "python",
   "nbconvert_exporter": "python",
   "pygments_lexer": "ipython2",
   "version": "2.7.11"
  }
 },
 "nbformat": 4,
 "nbformat_minor": 0
}
