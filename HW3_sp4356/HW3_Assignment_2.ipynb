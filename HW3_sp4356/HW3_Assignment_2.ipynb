{
 "cells": [
  {
   "cell_type": "code",
   "execution_count": 55,
   "metadata": {
    "collapsed": false
   },
   "outputs": [
    {
     "name": "stdout",
     "output_type": "stream",
     "text": [
      "Populating the interactive namespace from numpy and matplotlib\n"
     ]
    }
   ],
   "source": [
    "from __future__  import print_function, division\n",
    "import pylab as pl\n",
    "import pandas as pd\n",
    "import numpy as np\n",
    "import requests, zipfile, StringIO\n",
    "import os\n",
    "%pylab inline"
   ]
  },
  {
   "cell_type": "markdown",
   "metadata": {},
   "source": [
    "# IDEA\n",
    "\n",
    "**Young people are more likely to use bikes to commute compared to older people.**\n",
    "\n",
    "# NULL HYPOTHESIS\n",
    "\n",
    "**The ratio of people aged 21-40 biking on weekdays to people aged 21-40 biking on weekends is _equal_ or _lower_ than the ration of people aged 41-60 biking on weekdays to people aged 41-60 biking on weekends.**\n",
    "\n",
    "_The hypothesis is going to be tested at 5% significance level (a=0.05)._"
   ]
  },
  {
   "cell_type": "code",
   "execution_count": 63,
   "metadata": {
    "collapsed": false,
    "scrolled": true
   },
   "outputs": [
    {
     "data": {
      "text/html": [
       "<div>\n",
       "<table border=\"1\" class=\"dataframe\">\n",
       "  <thead>\n",
       "    <tr style=\"text-align: right;\">\n",
       "      <th></th>\n",
       "      <th>tripduration</th>\n",
       "      <th>starttime</th>\n",
       "      <th>stoptime</th>\n",
       "      <th>start station id</th>\n",
       "      <th>start station name</th>\n",
       "      <th>start station latitude</th>\n",
       "      <th>start station longitude</th>\n",
       "      <th>end station id</th>\n",
       "      <th>end station name</th>\n",
       "      <th>end station latitude</th>\n",
       "      <th>end station longitude</th>\n",
       "      <th>bikeid</th>\n",
       "      <th>usertype</th>\n",
       "      <th>birth year</th>\n",
       "      <th>gender</th>\n",
       "    </tr>\n",
       "  </thead>\n",
       "  <tbody>\n",
       "    <tr>\n",
       "      <th>0</th>\n",
       "      <td>669</td>\n",
       "      <td>3/1/2015 0:00</td>\n",
       "      <td>3/1/2015 0:11</td>\n",
       "      <td>164</td>\n",
       "      <td>E 47 St &amp; 2 Ave</td>\n",
       "      <td>40.753231</td>\n",
       "      <td>-73.970325</td>\n",
       "      <td>477</td>\n",
       "      <td>W 41 St &amp; 8 Ave</td>\n",
       "      <td>40.756405</td>\n",
       "      <td>-73.990026</td>\n",
       "      <td>21409</td>\n",
       "      <td>Subscriber</td>\n",
       "      <td>1987.0</td>\n",
       "      <td>1</td>\n",
       "    </tr>\n",
       "    <tr>\n",
       "      <th>1</th>\n",
       "      <td>750</td>\n",
       "      <td>3/1/2015 0:01</td>\n",
       "      <td>3/1/2015 0:14</td>\n",
       "      <td>258</td>\n",
       "      <td>DeKalb Ave &amp; Vanderbilt Ave</td>\n",
       "      <td>40.689407</td>\n",
       "      <td>-73.968855</td>\n",
       "      <td>436</td>\n",
       "      <td>Hancock St &amp; Bedford Ave</td>\n",
       "      <td>40.682166</td>\n",
       "      <td>-73.953990</td>\n",
       "      <td>19397</td>\n",
       "      <td>Subscriber</td>\n",
       "      <td>1968.0</td>\n",
       "      <td>1</td>\n",
       "    </tr>\n",
       "    <tr>\n",
       "      <th>2</th>\n",
       "      <td>663</td>\n",
       "      <td>3/1/2015 0:01</td>\n",
       "      <td>3/1/2015 0:12</td>\n",
       "      <td>497</td>\n",
       "      <td>E 17 St &amp; Broadway</td>\n",
       "      <td>40.737050</td>\n",
       "      <td>-73.990093</td>\n",
       "      <td>477</td>\n",
       "      <td>W 41 St &amp; 8 Ave</td>\n",
       "      <td>40.756405</td>\n",
       "      <td>-73.990026</td>\n",
       "      <td>20998</td>\n",
       "      <td>Customer</td>\n",
       "      <td>NaN</td>\n",
       "      <td>0</td>\n",
       "    </tr>\n",
       "    <tr>\n",
       "      <th>3</th>\n",
       "      <td>480</td>\n",
       "      <td>3/1/2015 0:02</td>\n",
       "      <td>3/1/2015 0:10</td>\n",
       "      <td>470</td>\n",
       "      <td>W 20 St &amp; 8 Ave</td>\n",
       "      <td>40.743453</td>\n",
       "      <td>-74.000040</td>\n",
       "      <td>491</td>\n",
       "      <td>E 24 St &amp; Park Ave S</td>\n",
       "      <td>40.740964</td>\n",
       "      <td>-73.986022</td>\n",
       "      <td>21565</td>\n",
       "      <td>Subscriber</td>\n",
       "      <td>1983.0</td>\n",
       "      <td>1</td>\n",
       "    </tr>\n",
       "    <tr>\n",
       "      <th>4</th>\n",
       "      <td>1258</td>\n",
       "      <td>3/1/2015 0:02</td>\n",
       "      <td>3/1/2015 0:23</td>\n",
       "      <td>345</td>\n",
       "      <td>W 13 St &amp; 6 Ave</td>\n",
       "      <td>40.736494</td>\n",
       "      <td>-73.997044</td>\n",
       "      <td>473</td>\n",
       "      <td>Rivington St &amp; Chrystie St</td>\n",
       "      <td>40.721101</td>\n",
       "      <td>-73.991925</td>\n",
       "      <td>14693</td>\n",
       "      <td>Subscriber</td>\n",
       "      <td>1970.0</td>\n",
       "      <td>1</td>\n",
       "    </tr>\n",
       "  </tbody>\n",
       "</table>\n",
       "</div>"
      ],
      "text/plain": [
       "   tripduration      starttime       stoptime  start station id  \\\n",
       "0           669  3/1/2015 0:00  3/1/2015 0:11               164   \n",
       "1           750  3/1/2015 0:01  3/1/2015 0:14               258   \n",
       "2           663  3/1/2015 0:01  3/1/2015 0:12               497   \n",
       "3           480  3/1/2015 0:02  3/1/2015 0:10               470   \n",
       "4          1258  3/1/2015 0:02  3/1/2015 0:23               345   \n",
       "\n",
       "            start station name  start station latitude  \\\n",
       "0              E 47 St & 2 Ave               40.753231   \n",
       "1  DeKalb Ave & Vanderbilt Ave               40.689407   \n",
       "2           E 17 St & Broadway               40.737050   \n",
       "3              W 20 St & 8 Ave               40.743453   \n",
       "4              W 13 St & 6 Ave               40.736494   \n",
       "\n",
       "   start station longitude  end station id            end station name  \\\n",
       "0               -73.970325             477             W 41 St & 8 Ave   \n",
       "1               -73.968855             436    Hancock St & Bedford Ave   \n",
       "2               -73.990093             477             W 41 St & 8 Ave   \n",
       "3               -74.000040             491        E 24 St & Park Ave S   \n",
       "4               -73.997044             473  Rivington St & Chrystie St   \n",
       "\n",
       "   end station latitude  end station longitude  bikeid    usertype  \\\n",
       "0             40.756405             -73.990026   21409  Subscriber   \n",
       "1             40.682166             -73.953990   19397  Subscriber   \n",
       "2             40.756405             -73.990026   20998    Customer   \n",
       "3             40.740964             -73.986022   21565  Subscriber   \n",
       "4             40.721101             -73.991925   14693  Subscriber   \n",
       "\n",
       "   birth year  gender  \n",
       "0      1987.0       1  \n",
       "1      1968.0       1  \n",
       "2         NaN       0  \n",
       "3      1983.0       1  \n",
       "4      1970.0       1  "
      ]
     },
     "execution_count": 63,
     "metadata": {},
     "output_type": "execute_result"
    }
   ],
   "source": [
    "datestring = '201503'\n",
    "r = requests.get('https://s3.amazonaws.com/tripdata/'+datestring + '-citibike-tripdata.zip')\n",
    "z = zipfile.ZipFile(StringIO.StringIO(r.content))\n",
    "\n",
    "df= pd.read_csv(z.open(datestring+'-citibike-tripdata.csv'))\n",
    "df.head()"
   ]
  },
  {
   "cell_type": "code",
   "execution_count": 64,
   "metadata": {
    "collapsed": false
   },
   "outputs": [],
   "source": [
    "df['date'] = pd.to_datetime(df['starttime'])"
   ]
  },
  {
   "cell_type": "code",
   "execution_count": 69,
   "metadata": {
    "collapsed": false
   },
   "outputs": [
    {
     "data": {
      "text/html": [
       "<div>\n",
       "<table border=\"1\" class=\"dataframe\">\n",
       "  <thead>\n",
       "    <tr style=\"text-align: right;\">\n",
       "      <th></th>\n",
       "      <th>age</th>\n",
       "      <th>date</th>\n",
       "    </tr>\n",
       "  </thead>\n",
       "  <tbody>\n",
       "    <tr>\n",
       "      <th>0</th>\n",
       "      <td>28.0</td>\n",
       "      <td>2015-03-01 00:00:00</td>\n",
       "    </tr>\n",
       "    <tr>\n",
       "      <th>1</th>\n",
       "      <td>47.0</td>\n",
       "      <td>2015-03-01 00:01:00</td>\n",
       "    </tr>\n",
       "    <tr>\n",
       "      <th>2</th>\n",
       "      <td>NaN</td>\n",
       "      <td>2015-03-01 00:01:00</td>\n",
       "    </tr>\n",
       "    <tr>\n",
       "      <th>3</th>\n",
       "      <td>32.0</td>\n",
       "      <td>2015-03-01 00:02:00</td>\n",
       "    </tr>\n",
       "    <tr>\n",
       "      <th>4</th>\n",
       "      <td>45.0</td>\n",
       "      <td>2015-03-01 00:02:00</td>\n",
       "    </tr>\n",
       "  </tbody>\n",
       "</table>\n",
       "</div>"
      ],
      "text/plain": [
       "    age                date\n",
       "0  28.0 2015-03-01 00:00:00\n",
       "1  47.0 2015-03-01 00:01:00\n",
       "2   NaN 2015-03-01 00:01:00\n",
       "3  32.0 2015-03-01 00:02:00\n",
       "4  45.0 2015-03-01 00:02:00"
      ]
     },
     "execution_count": 69,
     "metadata": {},
     "output_type": "execute_result"
    }
   ],
   "source": [
    "df['age'] = 2015 - df['birth year']\n",
    "df = df[['age', 'date']]\n",
    "df.head()"
   ]
  },
  {
   "cell_type": "code",
   "execution_count": 144,
   "metadata": {
    "collapsed": false
   },
   "outputs": [
    {
     "data": {
      "image/png": "[encoded data removed]",
      "text/plain": [
       "<matplotlib.figure.Figure at 0x7fbb67ba4c50>"
      ]
     },
     "metadata": {},
     "output_type": "display_data"
    }
   ],
   "source": [
    "bins = np.arange(20, 90, 10)\n",
    "df_ages = df.groupby(pd.cut(df.age, bins))\n",
    "objects = ('20-30', '30-40', '40-50', '50-60', '60-70', '70-80')\n",
    "y_pos = np.arange(len(objects))\n",
    "plt.bar(y_pos, df_ages.age.count(), align='center', alpha=0.6, color = 'g')\n",
    "plt.xticks(y_pos, objects)\n",
    "plt.xlabel('Age')\n",
    "plt.ylabel('Counts')\n",
    "plt.title('Bike usage per age group (Jan 2015)')\n",
    "plt.show()"
   ]
  },
  {
   "cell_type": "markdown",
   "metadata": {},
   "source": [
    "## Figure 1:\n",
    "\n",
    "Shows shows the bike usage by age group (January 2015).\n",
    "\n",
    "People aged between 30-40 are the group that has checked out more bikes for this particular period."
   ]
  },
  {
   "cell_type": "code",
   "execution_count": 143,
   "metadata": {
    "collapsed": false
   },
   "outputs": [
    {
     "data": {
      "image/png": "[encoded data removed]",
      "text/plain": [
       "<matplotlib.figure.Figure at 0x7fbb67a8ca90>"
      ]
     },
     "metadata": {},
     "output_type": "display_data"
    }
   ],
   "source": [
    "df_weekdays = df.groupby([df['date'].dt.weekday]).count()\n",
    "\n",
    "objects = ('Mon', 'Tue', 'Wed', 'Thu', 'Fri', 'Sat', 'Sun')\n",
    "y_pos = np.arange(len(objects))\n",
    "plt.bar(y_pos, df_weekdays.age, align='center', alpha=0.6, color = 'g')\n",
    "plt.xticks(y_pos, objects)\n",
    "plt.xlabel('Days')\n",
    "plt.ylabel('Counts')\n",
    "plt.title('Bike usage per day (Jan 2015)')\n",
    "plt.show()"
   ]
  },
  {
   "cell_type": "markdown",
   "metadata": {},
   "source": [
    "## Figure 2:\n",
    "\n",
    "Shows shows the bike usage by day (January 2015).\n",
    "\n",
    "During weekdays more bikes are checked out, with Saturday being the day with the lower number of checkouts."
   ]
  },
  {
   "cell_type": "code",
   "execution_count": 191,
   "metadata": {
    "collapsed": false
   },
   "outputs": [],
   "source": [
    "young = df[(df.age<41) & (df.age>19)].groupby([df.date.dt.weekday]).count()\n",
    "error_y=np.sqrt(young)\n",
    "norm_y = young.sum()\n",
    "\n",
    "young_weekday = young.age[0:5]\n",
    "error_y_weekday=np.sqrt(young_weekday)\n",
    "norm_y_weekday = young_weekday.sum()\n",
    "\n",
    "young_weekend = young.age[5:7]\n",
    "error_y_weekend=np.sqrt(young_weekend)\n",
    "norm_y_weekend = young_weekend.sum()\n",
    "\n",
    "old = df[(df.age>40) & (df.age<61)].groupby([df.date.dt.weekday]).count()\n",
    "error_o=np.sqrt(old)\n",
    "norm_o = old.sum()\n",
    "\n",
    "old_weekday = old.age[0:5]\n",
    "error_o_weekday=np.sqrt(old_weekday)\n",
    "norm_o_weekday = old_weekday.sum()\n",
    "\n",
    "old_weekend = old.age[5:7].sum()\n",
    "error_o_weekend=np.sqrt(old_weekend)\n",
    "norm_o_weekend = old_weekend.sum()"
   ]
  },
  {
   "cell_type": "code",
   "execution_count": 206,
   "metadata": {
    "collapsed": false
   },
   "outputs": [],
   "source": [
    "week_y = norm_y_weekday * 1.0 / norm_y\n",
    "weekend_y = norm_y_weekend * 1.0 / norm_y\n",
    "eweek_y = np.sqrt(np.sum(error_y_weekday**2.0)) / norm_y\n",
    "eweekend_y = np.sqrt(np.sum(error_y_weekend**2.0)) / norm_y\n",
    "\n",
    "week_o = norm_o_weekday * 1.0 / norm_o\n",
    "weekend_o = norm_o_weekend * 1.0 / norm_o\n",
    "eweek_o = np.sqrt(np.sum(error_o_weekday**2)) / norm_o\n",
    "eweekend_o = np.sqrt(np.sum(error_o_weekend**2)) / norm_o"
   ]
  },
  {
   "cell_type": "code",
   "execution_count": 253,
   "metadata": {
    "collapsed": false
   },
   "outputs": [
    {
     "data": {
      "text/plain": [
       "<matplotlib.legend.Legend at 0x7fbb66c61750>"
      ]
     },
     "execution_count": 253,
     "metadata": {},
     "output_type": "execute_result"
    },
    {
     "data": {
      "image/png": "[encoded data removed]",
      "text/plain": [
       "<matplotlib.figure.Figure at 0x7fbb675c2d90>"
      ]
     },
     "metadata": {},
     "output_type": "display_data"
    }
   ],
   "source": [
    "plt.figure(figsize = (9,9))\n",
    "plt.subplot(121)\n",
    "plt.title('Weekdays', fontsize=18)\n",
    "plt.ylabel('Fraction of normalized rides by age group')\n",
    "plt.errorbar([0.2], [week_y.age],yerr=[eweek_y.age], fmt = 'o', color = 'b', label = 'age: 20-40')\n",
    "plt.errorbar([0.4], [week_o.age],yerr=[eweek_o.age], fmt = 'o', color = 'g', label = 'age: 40-60')\n",
    "plt.xlim([0,0.6])\n",
    "plt.subplot(122)\n",
    "plt.title('Weekends', fontsize=18)\n",
    "plt.ylabel('Fraction of normalized rides by age group')\n",
    "plt.errorbar([0.2], [weekend_y.age],yerr=[eweekend_y.age], fmt = 'o', color = 'b', label = 'age: 20-40')\n",
    "plt.errorbar([0.4], [weekend_o.age],yerr=[eweekend_o.age], fmt = 'o', color = 'g', label = 'age: 40-60')\n",
    "plt.xlim([0,0.6])\n",
    "plt.ylim([0.14, 0.19])\n",
    "plt.legend()"
   ]
  },
  {
   "cell_type": "markdown",
   "metadata": {},
   "source": [
    "## Figure 2:\n",
    "\n",
    "Shows shows the fraction of normalized rides by age group, for weekdays (left) and weekends (right)."
   ]
  }
 ],
 "metadata": {
  "kernelspec": {
   "display_name": "PUI2016_Python2",
   "language": "python",
   "name": "pui2016_python2"
  },
  "language_info": {
   "codemirror_mode": {
    "name": "ipython",
    "version": 2
   },
   "file_extension": ".py",
   "mimetype": "text/x-python",
   "name": "python",
   "nbconvert_exporter": "python",
   "pygments_lexer": "ipython2",
   "version": "2.7.12"
  }
 },
 "nbformat": 4,
 "nbformat_minor": 0
}
