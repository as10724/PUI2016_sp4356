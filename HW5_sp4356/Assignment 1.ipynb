{
 "cells": [
  {
   "cell_type": "code",
   "execution_count": 80,
   "metadata": {
    "collapsed": false
   },
   "outputs": [],
   "source": [
    "import pandas as pd\n",
    "import numpy as np\n",
    "import matplotlib.pylab as plt\n",
    "import requests, zipfile, StringIO\n",
    "import scipy.stats\n",
    "\n",
    "%matplotlib inline"
   ]
  },
  {
   "cell_type": "code",
   "execution_count": 5,
   "metadata": {
    "collapsed": false
   },
   "outputs": [
    {
     "data": {
      "text/plain": [
       "(3337361, 15)"
      ]
     },
     "execution_count": 5,
     "metadata": {},
     "output_type": "execute_result"
    }
   ],
   "source": [
    "datestring = ['201505', '201507', '201509']\n",
    "df = pd.DataFrame()\n",
    "for month in datestring:\n",
    "    r = requests.get('https://s3.amazonaws.com/tripdata/'+ month + '-citibike-tripdata.zip')\n",
    "    z = zipfile.ZipFile(StringIO.StringIO(r.content))\n",
    "    df_temp = pd.read_csv(z.open(month +'-citibike-tripdata.csv'))\n",
    "    df = df.append(df_temp, ignore_index=True)\n",
    "\n",
    "df.shape"
   ]
  },
  {
   "cell_type": "code",
   "execution_count": 8,
   "metadata": {
    "collapsed": false
   },
   "outputs": [],
   "source": [
    "df['age'] = 2016 - df['birth year'][(df['usertype'] == 'Subscriber')]"
   ]
  },
  {
   "cell_type": "code",
   "execution_count": 29,
   "metadata": {
    "collapsed": false
   },
   "outputs": [],
   "source": [
    "df_age = df.age\n",
    "df_age.dropna(inplace= True)\n",
    "df_age.reset_index(drop=True, inplace= True)"
   ]
  },
  {
   "cell_type": "code",
   "execution_count": 72,
   "metadata": {
    "collapsed": false
   },
   "outputs": [
    {
     "data": {
      "image/png": "[encoded data removed]",
      "text/plain": [
       "<matplotlib.figure.Figure at 0x7f73d0906250>"
      ]
     },
     "metadata": {},
     "output_type": "display_data"
    }
   ],
   "source": [
    "plt.figure(figsize=(10,10))\n",
    "plt.hist(df_age,50)\n",
    "plt.xlabel(\"Age\", size = 18)\n",
    "plt.ylabel('Frequency', size = 18)\n",
    "plt.title(\"Histogram of citibike rider's age [May, July, Sep 2015]\", size=18)\n",
    "plt.show()"
   ]
  },
  {
   "cell_type": "markdown",
   "metadata": {},
   "source": [
    "## Figure 1\n",
    "Histogram showing the age distribution of citibike riders. May, July and September 2015."
   ]
  },
  {
   "cell_type": "markdown",
   "metadata": {},
   "source": [
    "## Kolmogorov-Smirnov test\n",
    "The Kolmogorov-Smirnov test for goodness of fit tests whether the distribution of an observed random variable [G(x)] matches a given distribution [F(x)]. The null hypothesis suggests that the two distributions are identical, which is mathematically formulated as follows:\n",
    "\n",
    "$$H_{0}: G(x) = F(x)$$\n",
    "\n",
    "\n",
    "$$H_{1}: G(x) \\neq F(x)$$"
   ]
  },
  {
   "cell_type": "code",
   "execution_count": 55,
   "metadata": {
    "collapsed": false
   },
   "outputs": [
    {
     "name": "stdout",
     "output_type": "stream",
     "text": [
      "KstestResult(statistic=1.0, pvalue=0.0)\n"
     ]
    }
   ],
   "source": [
    "ks_norm = scipy.stats.kstest(df_age, 'norm')\n",
    "print ks_norm"
   ]
  },
  {
   "cell_type": "code",
   "execution_count": 69,
   "metadata": {
    "collapsed": false
   },
   "outputs": [
    {
     "name": "stdout",
     "output_type": "stream",
     "text": [
      "KstestResult(statistic=0.22966688029875648, pvalue=0.0)\n"
     ]
    }
   ],
   "source": [
    "m = df_age.mean()\n",
    "ks_alpha = scipy.stats.kstest(df_age, 'gamma', args=(m,))\n",
    "print ks_alpha"
   ]
  },
  {
   "cell_type": "markdown",
   "metadata": {},
   "source": [
    "In the cells above, I test if the age of citibike riders follows (a) a gaussian, or (b) a gamma distribution. In both cases the Kolmogorov-Smirnov test __p-value is 0__, giving us evidence to reject the null hypothesis that the distribution of the data is the same as the tested one. \n",
    "\n",
    "Note that unlike the gaussian, when kstest tests another distribution it needs the input of additional arguments. In this case I add the distribution mean."
   ]
  },
  {
   "cell_type": "markdown",
   "metadata": {},
   "source": [
    "## Anderson-Darling test\n",
    "The Anderson-Darling test, is a variation of KS and test the exact same hypothesis, that the distribution of the data is identical to a pre-defined distribution (in Python's implementation the AD test accepts fewer number of distributions, compared to KS). It is considered more powerful, since it is more sensitive in the tails of the distribution (i.e. handling outliers better)."
   ]
  },
  {
   "cell_type": "code",
   "execution_count": 73,
   "metadata": {
    "collapsed": false
   },
   "outputs": [
    {
     "data": {
      "text/plain": [
       "AndersonResult(statistic=40464.503327151295, critical_values=array([ 0.576,  0.656,  0.787,  0.918,  1.092]), significance_level=array([ 15. ,  10. ,   5. ,   2.5,   1. ]))"
      ]
     },
     "execution_count": 73,
     "metadata": {},
     "output_type": "execute_result"
    }
   ],
   "source": [
    "scipy.stats.anderson(df_age, dist='norm')"
   ]
  },
  {
   "cell_type": "code",
   "execution_count": 94,
   "metadata": {
    "collapsed": false
   },
   "outputs": [
    {
     "data": {
      "text/plain": [
       "AndersonResult(statistic=658835.5717269117, critical_values=array([ 0.922,  1.078,  1.341,  1.606,  1.957]), significance_level=array([ 15. ,  10. ,   5. ,   2.5,   1. ]))"
      ]
     },
     "execution_count": 94,
     "metadata": {},
     "output_type": "execute_result"
    }
   ],
   "source": [
    "scipy.stats.anderson(df_age, dist='expon')"
   ]
  },
  {
   "cell_type": "markdown",
   "metadata": {},
   "source": [
    "The function scipy.stats.anderson returns the test statistic. To decide whether the null hypothesis is holds or not, we compare the test statistic with the critical value (for the desired significance level). If the test statistic is higher than the critical value, there are evidence to reject the null hypothesis.\n",
    "\n",
    "In this case, both for the gaussian and the exponential distribution the AD statistic is a lot higher than the critical values for all significance levels, so we reject that the our age data come from either gaussian or exponential distribution."
   ]
  },
  {
   "cell_type": "markdown",
   "metadata": {},
   "source": []
  },
  {
   "cell_type": "code",
   "execution_count": null,
   "metadata": {
    "collapsed": false
   },
   "outputs": [],
   "source": []
  },
  {
   "cell_type": "code",
   "execution_count": null,
   "metadata": {
    "collapsed": false
   },
   "outputs": [],
   "source": []
  }
 ],
 "metadata": {
  "kernelspec": {
   "display_name": "Python [Root]",
   "language": "python",
   "name": "Python [Root]"
  },
  "language_info": {
   "codemirror_mode": {
    "name": "ipython",
    "version": 2
   },
   "file_extension": ".py",
   "mimetype": "text/x-python",
   "name": "python",
   "nbconvert_exporter": "python",
   "pygments_lexer": "ipython2",
   "version": "2.7.12"
  }
 },
 "nbformat": 4,
 "nbformat_minor": 0
}
